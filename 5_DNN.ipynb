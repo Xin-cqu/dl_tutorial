{
 "cells": [
  {
   "cell_type": "code",
   "execution_count": null,
   "metadata": {},
   "outputs": [],
   "source": [
    "! wget https://github.com/hunkim/PyTorchZeroToAll/raw/master/data/diabetes.csv.gz"
   ]
  },
  {
   "cell_type": "code",
   "execution_count": 8,
   "metadata": {},
   "outputs": [],
   "source": [
    "! gunzip diabetes.csv.gz "
   ]
  },
  {
   "cell_type": "code",
   "execution_count": 10,
   "metadata": {},
   "outputs": [
    {
     "name": "stdout",
     "output_type": "stream",
     "text": [
      "torch.Size([759, 8])\n",
      "torch.Size([759, 1])\n"
     ]
    }
   ],
   "source": [
    "import torch\n",
    "import numpy as np\n",
    "from torch.autograd import Variable\n",
    "\n",
    "xy = np.loadtxt('diabetes.csv', delimiter=',', dtype=np.float32)\n",
    "\n",
    "x_data = Variable(torch.from_numpy(xy[:, 0:-1]))\n",
    "y_data = Variable(torch.from_numpy(xy[:, [-1]]))\n",
    "\n",
    "print(x_data.data.shape) # torch.Size([759, 8])\n",
    "print(y_data.data.shape) # torch.Size([759, 1])"
   ]
  },
  {
   "cell_type": "code",
   "execution_count": 11,
   "metadata": {},
   "outputs": [],
   "source": [
    "class Model(torch.nn.Module):\n",
    "\n",
    "    def __init__(self):\n",
    "       \n",
    "        super(Model, self).__init__()\n",
    "        self.l1 = torch.nn.Linear(8, 6)\n",
    "        self.l2 = torch.nn.Linear(6, 4)\n",
    "        self.l3 = torch.nn.Linear(4, 1)\n",
    "\n",
    "        self.sigmoid = torch.nn.Sigmoid()\n",
    "\n",
    "    def forward(self, x):\n",
    "    \n",
    "        out1 = self.sigmoid(self.l1(x))\n",
    "        out2 = self.sigmoid(self.l2(out1))\n",
    "        y_pred = self.sigmoid(self.l3(out2))\n",
    "        return y_pred"
   ]
  },
  {
   "cell_type": "code",
   "execution_count": 13,
   "metadata": {},
   "outputs": [
    {
     "name": "stdout",
     "output_type": "stream",
     "text": [
      "0 0.6767250895500183\n",
      "1 0.6736846566200256\n",
      "2 0.670945942401886\n",
      "3 0.6684791445732117\n",
      "4 0.6662570238113403\n",
      "5 0.6642553210258484\n",
      "6 0.662451446056366\n",
      "7 0.6608258485794067\n",
      "8 0.6593602299690247\n",
      "9 0.6580389142036438\n",
      "10 0.6568474173545837\n",
      "11 0.6557728052139282\n",
      "12 0.654803454875946\n",
      "13 0.6539287567138672\n",
      "14 0.6531393527984619\n",
      "15 0.6524271368980408\n",
      "16 0.6517840623855591\n",
      "17 0.6512031555175781\n",
      "18 0.6506786346435547\n",
      "19 0.6502048373222351\n",
      "20 0.6497771143913269\n",
      "21 0.6493902802467346\n",
      "22 0.6490405201911926\n",
      "23 0.6487244367599487\n",
      "24 0.6484388113021851\n",
      "25 0.6481804251670837\n",
      "26 0.647946834564209\n",
      "27 0.6477358937263489\n",
      "28 0.6475448608398438\n",
      "29 0.6473714113235474\n",
      "30 0.647214412689209\n",
      "31 0.6470727920532227\n",
      "32 0.6469447612762451\n",
      "33 0.6468282341957092\n",
      "34 0.6467230319976807\n",
      "35 0.6466272473335266\n",
      "36 0.6465411186218262\n",
      "37 0.6464626789093018\n",
      "38 0.6463916301727295\n",
      "39 0.6463268995285034\n",
      "40 0.6462681293487549\n",
      "41 0.6462154984474182\n",
      "42 0.6461670398712158\n",
      "43 0.646123468875885\n",
      "44 0.6460835337638855\n",
      "45 0.6460473537445068\n",
      "46 0.6460146903991699\n",
      "47 0.6459845304489136\n",
      "48 0.6459574699401855\n",
      "49 0.6459324359893799\n",
      "50 0.6459105014801025\n",
      "51 0.6458895802497864\n",
      "52 0.6458706855773926\n",
      "53 0.6458538174629211\n",
      "54 0.6458380222320557\n",
      "55 0.6458238363265991\n",
      "56 0.6458103060722351\n",
      "57 0.6457988023757935\n",
      "58 0.6457873582839966\n",
      "59 0.6457772254943848\n",
      "60 0.6457682847976685\n",
      "61 0.6457590460777283\n",
      "62 0.6457517147064209\n",
      "63 0.645744264125824\n",
      "64 0.6457375884056091\n",
      "65 0.6457310914993286\n",
      "66 0.6457257866859436\n",
      "67 0.6457198858261108\n",
      "68 0.6457151770591736\n",
      "69 0.6457101106643677\n",
      "70 0.6457058787345886\n",
      "71 0.6457015872001648\n",
      "72 0.6456984877586365\n",
      "73 0.6456944942474365\n",
      "74 0.6456909775733948\n",
      "75 0.6456876397132874\n",
      "76 0.645684540271759\n",
      "77 0.6456819772720337\n",
      "78 0.6456791758537292\n",
      "79 0.6456764340400696\n",
      "80 0.6456738114356995\n",
      "81 0.645671546459198\n",
      "82 0.6456688642501831\n",
      "83 0.6456661820411682\n",
      "84 0.6456648707389832\n",
      "85 0.6456626653671265\n",
      "86 0.6456604599952698\n",
      "87 0.6456589102745056\n",
      "88 0.6456565260887146\n",
      "89 0.6456544995307922\n",
      "90 0.6456529498100281\n",
      "91 0.6456512808799744\n",
      "92 0.6456490755081177\n",
      "93 0.6456476449966431\n",
      "94 0.6456457376480103\n",
      "95 0.6456440687179565\n",
      "96 0.6456422209739685\n",
      "97 0.6456410884857178\n",
      "98 0.645639181137085\n",
      "99 0.6456370949745178\n"
     ]
    }
   ],
   "source": [
    "model = Model()\n",
    "\n",
    "\n",
    "criterion = torch.nn.BCELoss(size_average=True)\n",
    "optimizer = torch.optim.SGD(model.parameters(), lr=0.1)\n",
    "\n",
    "\n",
    "for epoch in range(100):\n",
    "    y_pred = model(x_data)\n",
    "\n",
    "    loss = criterion(y_pred, y_data)\n",
    "    print(epoch, loss.item())\n",
    "\n",
    "    optimizer.zero_grad()\n",
    "    loss.backward()\n",
    "    optimizer.step()"
   ]
  },
  {
   "cell_type": "code",
   "execution_count": null,
   "metadata": {},
   "outputs": [],
   "source": []
  }
 ],
 "metadata": {
  "kernelspec": {
   "display_name": "Python 3",
   "language": "python",
   "name": "python3"
  },
  "language_info": {
   "codemirror_mode": {
    "name": "ipython",
    "version": 3
   },
   "file_extension": ".py",
   "mimetype": "text/x-python",
   "name": "python",
   "nbconvert_exporter": "python",
   "pygments_lexer": "ipython3",
   "version": "3.6.8"
  }
 },
 "nbformat": 4,
 "nbformat_minor": 2
}
