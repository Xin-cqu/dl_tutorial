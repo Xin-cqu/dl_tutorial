{
 "cells": [
  {
   "cell_type": "code",
   "execution_count": 1,
   "metadata": {},
   "outputs": [],
   "source": [
    "import torch\n",
    "import numpy as np\n",
    "from torch.autograd import Variable\n",
    "from torch.utils.data import Dataset, DataLoader\n",
    "\n",
    "\n",
    "class DiabetesDataset(Dataset):\n",
    "    def __init__(self):\n",
    "        xy = np.loadtxt('diabetes.csv', delimiter=',', dtype=np.float32)\n",
    "        self.len = xy.shape[0]\n",
    "        self.x_data = torch.from_numpy(xy[:, 0:-1])\n",
    "        self.y_data = torch.from_numpy(xy[:, [-1]])\n",
    "\n",
    "    def __getitem__(self, index):\n",
    "        return self.x_data[index], self.y_data[index]\n",
    "\n",
    "    def __len__(self):\n",
    "        return self.len\n",
    "\n",
    "\n",
    "dataset = DiabetesDataset()\n",
    "train_loader = DataLoader(dataset=dataset,\n",
    "                          batch_size=32,\n",
    "                          shuffle=True,\n",
    "                          num_workers=2)"
   ]
  },
  {
   "cell_type": "code",
   "execution_count": 2,
   "metadata": {},
   "outputs": [
    {
     "name": "stderr",
     "output_type": "stream",
     "text": [
      "/usr/local/lib/python3.6/dist-packages/torch/nn/_reduction.py:43: UserWarning: size_average and reduce args will be deprecated, please use reduction='mean' instead.\n",
      "  warnings.warn(warning.format(ret))\n"
     ]
    }
   ],
   "source": [
    "class Model(torch.nn.Module):\n",
    "\n",
    "    def __init__(self):\n",
    "      \n",
    "        super(Model, self).__init__()\n",
    "        self.l1 = torch.nn.Linear(8, 6)\n",
    "        self.l2 = torch.nn.Linear(6, 4)\n",
    "        self.l3 = torch.nn.Linear(4, 1)\n",
    "\n",
    "        self.sigmoid = torch.nn.Sigmoid()\n",
    "\n",
    "    def forward(self, x):\n",
    "       \n",
    "        out1 = self.sigmoid(self.l1(x))\n",
    "        out2 = self.sigmoid(self.l2(out1))\n",
    "        y_pred = self.sigmoid(self.l3(out2))\n",
    "        return y_pred\n",
    "\n",
    "\n",
    "model = Model()\n",
    "\n",
    "\n",
    "criterion = torch.nn.BCELoss(size_average=True)\n",
    "optimizer = torch.optim.SGD(model.parameters(), lr=0.1)\n"
   ]
  },
  {
   "cell_type": "code",
   "execution_count": 4,
   "metadata": {},
   "outputs": [
    {
     "name": "stdout",
     "output_type": "stream",
     "text": [
      "0 0 0.7993320226669312\n",
      "0 1 0.8757759928703308\n",
      "0 2 0.7530966997146606\n",
      "0 3 0.8029229640960693\n",
      "0 4 0.7600235939025879\n",
      "0 5 0.7819178700447083\n",
      "0 6 0.7544727325439453\n",
      "0 7 0.7342365980148315\n",
      "0 8 0.7246242761611938\n",
      "0 9 0.7336024045944214\n",
      "0 10 0.7026475071907043\n",
      "0 11 0.7006477117538452\n",
      "0 12 0.6926676034927368\n",
      "0 13 0.6859146952629089\n",
      "0 14 0.6893088221549988\n",
      "0 15 0.6834049224853516\n",
      "0 16 0.6776599884033203\n",
      "0 17 0.6826527118682861\n",
      "0 18 0.7055268883705139\n",
      "0 19 0.6673285365104675\n",
      "0 20 0.6813761591911316\n",
      "0 21 0.669232964515686\n",
      "0 22 0.648078203201294\n",
      "0 23 0.6528492569923401\n",
      "1 0 0.6346579194068909\n",
      "1 1 0.6861221790313721\n",
      "1 2 0.6861785054206848\n",
      "1 3 0.685845673084259\n",
      "1 4 0.6570339798927307\n",
      "1 5 0.656517744064331\n",
      "1 6 0.6547390222549438\n",
      "1 7 0.599104642868042\n",
      "1 8 0.6509128212928772\n",
      "1 9 0.6373433470726013\n",
      "1 10 0.5819928646087646\n",
      "1 11 0.6623228192329407\n",
      "1 12 0.6175212860107422\n",
      "1 13 0.6772074699401855\n",
      "1 14 0.7075015306472778\n",
      "1 15 0.662003219127655\n",
      "1 16 0.6323407292366028\n",
      "1 17 0.6461700797080994\n",
      "1 18 0.7083918452262878\n",
      "1 19 0.6466564536094666\n",
      "1 20 0.6167376041412354\n",
      "1 21 0.6302829384803772\n",
      "1 22 0.6454585790634155\n",
      "1 23 0.6701964139938354\n"
     ]
    }
   ],
   "source": [
    "for epoch in range(2):\n",
    "    for i, data in enumerate(train_loader, 0):\n",
    "      \n",
    "        inputs, labels = data\n",
    "\n",
    "        \n",
    "        inputs, labels = Variable(inputs), Variable(labels)\n",
    "\n",
    "        y_pred = model(inputs)\n",
    "\n",
    "        loss = criterion(y_pred, labels)\n",
    "        print(epoch, i, loss.data.item())\n",
    "\n",
    "        optimizer.zero_grad()\n",
    "        loss.backward()\n",
    "        optimizer.step()\n"
   ]
  },
  {
   "cell_type": "code",
   "execution_count": null,
   "metadata": {},
   "outputs": [],
   "source": []
  }
 ],
 "metadata": {
  "kernelspec": {
   "display_name": "Python 3",
   "language": "python",
   "name": "python3"
  },
  "language_info": {
   "codemirror_mode": {
    "name": "ipython",
    "version": 3
   },
   "file_extension": ".py",
   "mimetype": "text/x-python",
   "name": "python",
   "nbconvert_exporter": "python",
   "pygments_lexer": "ipython3",
   "version": "3.6.8"
  }
 },
 "nbformat": 4,
 "nbformat_minor": 2
}
