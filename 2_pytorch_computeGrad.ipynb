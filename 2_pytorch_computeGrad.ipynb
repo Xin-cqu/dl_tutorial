{
 "cells": [
  {
   "cell_type": "code",
   "execution_count": 2,
   "metadata": {},
   "outputs": [],
   "source": [
    "import torch\n",
    "from torch.autograd import Variable\n",
    "\n",
    "x_data=[1.0,2.0,3.0]\n",
    "y_data=[2.0,4.0,6.0]\n",
    "w=Variable(torch.Tensor([1.0]), requires_grad=True)\n",
    "\n",
    "def forward(x,w):\n",
    "    return x*w\n",
    "def loss(x,y):\n",
    "    y_hat=forward(x,w)\n",
    "    return (y_hat-y)*(y_hat-y)"
   ]
  },
  {
   "cell_type": "code",
   "execution_count": 5,
   "metadata": {},
   "outputs": [
    {
     "name": "stdout",
     "output_type": "stream",
     "text": [
      "\tgrad: 1.0 2.0 tensor(-4.)\n",
      "\tgrad: 2.0 4.0 tensor(-7.6800)\n",
      "\tgrad: 3.0 6.0 tensor(-15.8976)\n",
      "epoch:0,loss:7.020380\n",
      "\tgrad: 1.0 2.0 tensor(-1.4484)\n",
      "\tgrad: 2.0 4.0 tensor(-5.6779)\n",
      "\tgrad: 3.0 6.0 tensor(-11.7533)\n",
      "epoch:1,loss:3.837216\n",
      "\tgrad: 1.0 2.0 tensor(-1.0709)\n",
      "\tgrad: 2.0 4.0 tensor(-4.1978)\n",
      "\tgrad: 3.0 6.0 tensor(-8.6893)\n",
      "epoch:2,loss:2.097354\n",
      "\tgrad: 1.0 2.0 tensor(-0.7917)\n",
      "\tgrad: 2.0 4.0 tensor(-3.1034)\n",
      "\tgrad: 3.0 6.0 tensor(-6.4241)\n",
      "epoch:3,loss:1.146377\n",
      "\tgrad: 1.0 2.0 tensor(-0.5853)\n",
      "\tgrad: 2.0 4.0 tensor(-2.2944)\n",
      "\tgrad: 3.0 6.0 tensor(-4.7494)\n",
      "epoch:4,loss:0.626589\n",
      "\tgrad: 1.0 2.0 tensor(-0.4327)\n",
      "\tgrad: 2.0 4.0 tensor(-1.6963)\n",
      "\tgrad: 3.0 6.0 tensor(-3.5113)\n",
      "epoch:5,loss:0.342483\n",
      "\tgrad: 1.0 2.0 tensor(-0.3199)\n",
      "\tgrad: 2.0 4.0 tensor(-1.2541)\n",
      "\tgrad: 3.0 6.0 tensor(-2.5960)\n",
      "epoch:6,loss:0.187195\n",
      "\tgrad: 1.0 2.0 tensor(-0.2365)\n",
      "\tgrad: 2.0 4.0 tensor(-0.9272)\n",
      "\tgrad: 3.0 6.0 tensor(-1.9192)\n",
      "epoch:7,loss:0.102317\n",
      "\tgrad: 1.0 2.0 tensor(-0.1749)\n",
      "\tgrad: 2.0 4.0 tensor(-0.6855)\n",
      "\tgrad: 3.0 6.0 tensor(-1.4189)\n",
      "epoch:8,loss:0.055925\n",
      "\tgrad: 1.0 2.0 tensor(-0.1293)\n",
      "\tgrad: 2.0 4.0 tensor(-0.5068)\n",
      "\tgrad: 3.0 6.0 tensor(-1.0490)\n",
      "epoch:9,loss:0.030567\n"
     ]
    }
   ],
   "source": [
    "for epoch in range(10):\n",
    "    for x,y in zip(x_data,y_data):\n",
    "        l=loss(x,y)\n",
    "        l.backward()\n",
    "        print(\"\\tgrad:\",x,y,w.grad.data[0])\n",
    "        w.data=w.data-0.01*w.grad.data\n",
    "        w.grad.data.zero_()\n",
    "    print(\"epoch:%d,loss:%f\"%(epoch,l.data[0]))"
   ]
  },
  {
   "cell_type": "code",
   "execution_count": 6,
   "metadata": {},
   "outputs": [
    {
     "name": "stdout",
     "output_type": "stream",
     "text": [
      "predict (after training) 4 tensor([7.8088], grad_fn=<MulBackward0>)\n"
     ]
    }
   ],
   "source": [
    "print(\"predict (after training)\",4,forward(4,w))"
   ]
  },
  {
   "cell_type": "code",
   "execution_count": null,
   "metadata": {},
   "outputs": [],
   "source": []
  }
 ],
 "metadata": {
  "kernelspec": {
   "display_name": "Python 3",
   "language": "python",
   "name": "python3"
  },
  "language_info": {
   "codemirror_mode": {
    "name": "ipython",
    "version": 3
   },
   "file_extension": ".py",
   "mimetype": "text/x-python",
   "name": "python",
   "nbconvert_exporter": "python",
   "pygments_lexer": "ipython3",
   "version": "3.6.8"
  }
 },
 "nbformat": 4,
 "nbformat_minor": 2
}
