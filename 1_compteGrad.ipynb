{
 "cells": [
  {
   "cell_type": "code",
   "execution_count": 1,
   "metadata": {},
   "outputs": [],
   "source": [
    "import numpy as np\n",
    "import matplotlib.pyplot as plt\n",
    "x_data=[1.0,2.0,3.0]\n",
    "y_data=[2.0,4.0,6.0]\n",
    "def forward(x,w):\n",
    "    return x*w\n",
    "def loss(x,y):\n",
    "    y_hat=forward(x,w)\n",
    "    return (y_hat-y)*(y_hat-y)\n",
    "w_list=[]\n",
    "mse_list=[]\n"
   ]
  },
  {
   "cell_type": "code",
   "execution_count": 26,
   "metadata": {},
   "outputs": [
    {
     "name": "stdout",
     "output_type": "stream",
     "text": [
      "[-0.88022741]\n"
     ]
    }
   ],
   "source": [
    "def compteGradient(x,y):\n",
    "    return 2*x*(x*w-y)\n",
    "w=np.random.randn(1)\n",
    "print(w)"
   ]
  },
  {
   "cell_type": "code",
   "execution_count": 27,
   "metadata": {},
   "outputs": [
    {
     "name": "stdout",
     "output_type": "stream",
     "text": [
      "predict (before training) 4 [-3.52090964]\n"
     ]
    }
   ],
   "source": [
    "print(\"predict (before training)\", 4, forward(4,w))"
   ]
  },
  {
   "cell_type": "code",
   "execution_count": 28,
   "metadata": {},
   "outputs": [
    {
     "name": "stdout",
     "output_type": "stream",
     "text": [
      "\tgrad: 1.0 2.0 [-5.76045482]\n",
      "\tgrad: 2.0 4.0 [-22.58098289]\n",
      "\tgrad: 3.0 6.0 [-46.74263459]\n",
      "epoch:0, loss：40.808589\n",
      "\tgrad: 1.0 2.0 [-4.25877337]\n",
      "\tgrad: 2.0 4.0 [-16.69439162]\n",
      "\tgrad: 3.0 6.0 [-34.55739066]\n",
      "epoch:1, loss：22.305250\n",
      "\tgrad: 1.0 2.0 [-3.14856226]\n",
      "\tgrad: 2.0 4.0 [-12.34236406]\n",
      "\tgrad: 3.0 6.0 [-25.5486936]\n",
      "epoch:2, loss：12.191653\n",
      "\tgrad: 1.0 2.0 [-2.32776986]\n",
      "\tgrad: 2.0 4.0 [-9.12485786]\n",
      "\tgrad: 3.0 6.0 [-18.88845577]\n",
      "epoch:3, loss：6.663741\n",
      "\tgrad: 1.0 2.0 [-1.72094819]\n",
      "\tgrad: 2.0 4.0 [-6.74611691]\n",
      "\tgrad: 3.0 6.0 [-13.96446201]\n",
      "epoch:4, loss：3.642282\n",
      "\tgrad: 1.0 2.0 [-1.27231765]\n",
      "\tgrad: 2.0 4.0 [-4.98748519]\n",
      "\tgrad: 3.0 6.0 [-10.32409434]\n",
      "epoch:5, loss：1.990807\n",
      "\tgrad: 1.0 2.0 [-0.94063971]\n",
      "\tgrad: 2.0 4.0 [-3.68730765]\n",
      "\tgrad: 3.0 6.0 [-7.63272683]\n",
      "epoch:6, loss：1.088140\n",
      "\tgrad: 1.0 2.0 [-0.69542622]\n",
      "\tgrad: 2.0 4.0 [-2.72607079]\n",
      "\tgrad: 3.0 6.0 [-5.64296654]\n",
      "epoch:7, loss：0.594758\n",
      "\tgrad: 1.0 2.0 [-0.51413695]\n",
      "\tgrad: 2.0 4.0 [-2.01541685]\n",
      "\tgrad: 3.0 6.0 [-4.17191288]\n",
      "epoch:8, loss：0.325084\n",
      "\tgrad: 1.0 2.0 [-0.38010762]\n",
      "\tgrad: 2.0 4.0 [-1.49002186]\n",
      "\tgrad: 3.0 6.0 [-3.08434525]\n",
      "epoch:9, loss：0.177685\n"
     ]
    }
   ],
   "source": [
    "for epoch in range(10):\n",
    "    l_sum=0\n",
    "    for x,y in zip(x_data,y_data):\n",
    "        grad=compteGradient(x,y)\n",
    "        w=w-0.01*grad\n",
    "        print(\"\\tgrad:\",x,y,grad)\n",
    "        l=loss(x,y)\n",
    "        l_sum=l_sum+l\n",
    "    print(\"epoch:%d, loss：%f\"%(epoch,l))\n",
    "    w_list.append(w)\n",
    "    mse_list.append(l_sum/len(x_data))"
   ]
  },
  {
   "cell_type": "code",
   "execution_count": 29,
   "metadata": {},
   "outputs": [
    {
     "name": "stdout",
     "output_type": "stream",
     "text": [
      "predict (after training) 4 [7.43796375]\n"
     ]
    }
   ],
   "source": [
    "print(\"predict (after training)\",4,forward(4,w))"
   ]
  },
  {
   "cell_type": "code",
   "execution_count": null,
   "metadata": {},
   "outputs": [],
   "source": []
  }
 ],
 "metadata": {
  "kernelspec": {
   "display_name": "Python 3",
   "language": "python",
   "name": "python3"
  },
  "language_info": {
   "codemirror_mode": {
    "name": "ipython",
    "version": 3
   },
   "file_extension": ".py",
   "mimetype": "text/x-python",
   "name": "python",
   "nbconvert_exporter": "python",
   "pygments_lexer": "ipython3",
   "version": "3.6.8"
  }
 },
 "nbformat": 4,
 "nbformat_minor": 2
}
